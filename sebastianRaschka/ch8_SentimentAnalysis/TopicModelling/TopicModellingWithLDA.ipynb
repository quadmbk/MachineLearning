{
 "cells": [
  {
   "cell_type": "markdown",
   "id": "d795e933-3e16-4d05-9268-bb51d2d0681c",
   "metadata": {},
   "source": [
    "<h1>Topic Modelling with LDA(Latent Dirichlet Allocation)</h1>\n",
    "<ul>\n",
    "    <li>This tasks deals with assigning topics to unlabeled data</li>\n",
    "    <li>Applications: Categorisation of newsapaper articles</li>\n",
    "    <li>Its a probablistic model</li>\n",
    "    <li>It tries to find groups of words that appear freuquently in documents belonging to same topic</li>\n",
    "    <li>Input to LDA is a bag-of-words model</li>\n",
    "    <li>LDA decomposes it into A document-to-topic matrix and a word-to-topic matrix</li>\n",
    "    <li>We must define the number of topics beforehand as it is a hyperparameter to LDA</li>\n",
    "</ul>"
   ]
  },
  {
   "cell_type": "markdown",
   "id": "cd9a150f-3223-4b77-82a2-846f8fa9d9fd",
   "metadata": {},
   "source": [
    "<h2>LDA with Scikit-learn</h2>\n",
    "<ul>\n",
    "    <li>Class name: LatentDirichletAllocation</li>\n",
    "    <li>Module Name: sklearn.decomposition</li>\n",
    "</ul>"
   ]
  },
  {
   "cell_type": "code",
   "execution_count": 1,
   "id": "c12200d0-5797-4d33-b20e-2cd52168fda2",
   "metadata": {},
   "outputs": [
    {
     "name": "stdout",
     "output_type": "stream",
     "text": [
      "                                              review  sentiment\n",
      "0  In 1974, the teenager Martha Moxley (Maggie Gr...          1\n",
      "1  OK... so... I really like Kris Kristofferson a...          0\n",
      "2  ***SPOILER*** Do not read this, if you think a...          0\n"
     ]
    }
   ],
   "source": [
    "import pandas as pd\n",
    "\n",
    "movie_dataset = \"../movie_data.csv\"\n",
    "df = pd.read_csv(movie_dataset, encoding=\"utf-8\")\n",
    "print(df.head(3))"
   ]
  },
  {
   "cell_type": "markdown",
   "id": "b7a8ef69-b61c-4f4b-af21-85b0606eb269",
   "metadata": {},
   "source": [
    "Remove stop-words from the database\n",
    "MAX_DF = 0.1 means to only use words with a max document frequency of 10% as the words which are used too many times are not possesing any usful information\n",
    "max_features = 5000, means we are limiting to only the top 5000 most recurring words\n",
    "\n",
    "These hyperparameters can be tuned to change the performance of the results"
   ]
  },
  {
   "cell_type": "code",
   "execution_count": 2,
   "id": "ce452df8-4ccb-418e-9541-fa2f4e140a57",
   "metadata": {},
   "outputs": [],
   "source": [
    "from sklearn.feature_extraction.text import CountVectorizer\n",
    "count = CountVectorizer(stop_words='english', max_df=0.1, max_features=5000)\n",
    "\n",
    "X = count.fit_transform(df['review'].values)\n",
    "#print(count.vocabulary_)"
   ]
  },
  {
   "cell_type": "markdown",
   "id": "600eb5c5-458d-4c98-9607-78045c9f9f5b",
   "metadata": {},
   "source": [
    "<p>X is now a bag-of-words matrix. This needs to be passed to LDA estimator so that it can infer 10 different topics from the documents</p>"
   ]
  },
  {
   "cell_type": "code",
   "execution_count": 3,
   "id": "bb224e0d-1fc8-4030-ba82-94829d0b046e",
   "metadata": {},
   "outputs": [
    {
     "name": "stdout",
     "output_type": "stream",
     "text": [
      "(10, 5000)\n"
     ]
    }
   ],
   "source": [
    "from sklearn.decomposition import LatentDirichletAllocation\n",
    "lda = LatentDirichletAllocation(n_components=10, random_state=123, learning_method='batch')\n",
    "#learning-method='online' is also there but it is time consuming and leads to better estimations\n",
    "#n_components = 10 mean infer 10 topics from the documents\n",
    "\n",
    "X_topics = lda.fit_transform(X)\n",
    "#components_ attribute holds a matrix containing the top 5000 words for each 10 topics in increasing order\n",
    "print(lda.components_.shape)\n"
   ]
  },
  {
   "cell_type": "markdown",
   "id": "d26152cb-3092-4327-9cda-6d31be9c048a",
   "metadata": {},
   "source": [
    "<p>Let's print the 5 most important words for each of the 10 inferred topics</p>"
   ]
  },
  {
   "cell_type": "code",
   "execution_count": 4,
   "id": "ff6faf01-ea4b-4778-b8bf-7cee9a056afc",
   "metadata": {},
   "outputs": [
    {
     "name": "stdout",
     "output_type": "stream",
     "text": [
      "Topic 1:\n",
      "horror worst script effects budget\n",
      "Topic 2:\n",
      "dvd watched video music guy\n",
      "Topic 3:\n",
      "war american series history documentary\n",
      "Topic 4:\n",
      "game killer murder thriller crime\n",
      "Topic 5:\n",
      "kids comedy episode series school\n",
      "Topic 6:\n",
      "family woman mother beautiful feel\n",
      "Topic 7:\n",
      "role performance comedy john plays\n",
      "Topic 8:\n",
      "action horror john effects dr\n",
      "Topic 9:\n",
      "book version original read music\n",
      "Topic 10:\n",
      "action wife father police james\n"
     ]
    }
   ],
   "source": [
    "n_top_words = 5\n",
    "feature_names = count.get_feature_names_out()\n",
    "for topic_idx, topic in enumerate(lda.components_):\n",
    "    print(f'Topic {(topic_idx+1)}:')\n",
    "    print(' '.join([feature_names[i] for i in topic.argsort() [:-n_top_words -1 :-1]]))"
   ]
  },
  {
   "cell_type": "markdown",
   "id": "9fcf2050-b03b-4b56-9136-d95d315ac526",
   "metadata": {},
   "source": [
    "Above code will give the 10 topics identified by LDA estimator. It does not assign any name to these topics, rather classifies the top 5000 words for each topic. For this particular project the output is:\n",
    "Topic 1:\n",
    "horror worst script effects budget\n",
    "Topic 2:\n",
    "dvd watched video music guy\n",
    "Topic 3:\n",
    "war american series history documentary\n",
    "Topic 4:\n",
    "game killer murder thriller crime\n",
    "Topic 5:\n",
    "kids comedy episode series school\n",
    "Topic 6:\n",
    "family woman mother beautiful feel\n",
    "Topic 7:\n",
    "role performance comedy john plays\n",
    "Topic 8:\n",
    "action horror john effects dr\n",
    "Topic 9:\n",
    "book version original read music\n",
    "Topic 10:\n",
    "action wife father police james\n",
    "\n",
    "Therefore, LDA identify following:\n",
    "1. Bad Horror\n",
    "2. Unidentifiable\n",
    "3. War Documentary\n",
    "4. Thriller\n",
    "5. Comedy\n",
    "6. Family Drama\n",
    "7. Comedy\n",
    "8. Action Horror\n",
    "9. Movie based on books\n",
    "10. Action\n",
    "\n",
    "We can confirm that the topics match by looking at some movies from the category"
   ]
  },
  {
   "cell_type": "code",
   "execution_count": 9,
   "id": "a1a1117b-f4e6-419e-8dce-4010b7956b6f",
   "metadata": {},
   "outputs": [
    {
     "name": "stdout",
     "output_type": "stream",
     "text": [
      "Movie number #1:\n",
      "The Drug Years actually suffers from one of those aspects to mini-series or other kinds of TV documentaries run over and over again for a couple of weeks on TV. It's actually not long enough, in a way. All of the major bases in the decades are covered, and they're all interesting to note as views in ...\n",
      "Movie number #2:\n",
      "Not a balanced point of view. The director shouldn't express her opinion as truth. The movie has some criticism of Fujimori but it always gives him and his family the last words. So few critics of Fujimori were provided that it seems the only reason they were included was to be able to say the movie ...\n",
      "Movie number #3:\n",
      "This series, produced at probably the most propitious time following the events of the second World War, is on a scale of value that stands far above any individual's presumption to criticize.<br /><br />The timing of World at War's production in 1974, amounting to some three decades after the event ...\n"
     ]
    }
   ],
   "source": [
    "topics_6 = X_topics[:,2].argsort()[::-1]\n",
    "for iter_idx, movie_idx in enumerate(topics_6[:3]):\n",
    "    print(f'Movie number #{(iter_idx+1)}:')\n",
    "    print(df['review'][movie_idx][:300],'...')"
   ]
  },
  {
   "cell_type": "code",
   "execution_count": null,
   "id": "a5c7ab8a-f8d6-49e9-98ae-8de8bf06e28d",
   "metadata": {},
   "outputs": [],
   "source": [
    "The movie review of cateogy 6 infact suggest suggestss thaqt all are drama movies"
   ]
  },
  {
   "cell_type": "code",
   "execution_count": null,
   "id": "eda859e5-fc72-4a5d-8ddf-17d0dde9af15",
   "metadata": {},
   "outputs": [],
   "source": []
  }
 ],
 "metadata": {
  "kernelspec": {
   "display_name": "Python 3 (ipykernel)",
   "language": "python",
   "name": "python3"
  },
  "language_info": {
   "codemirror_mode": {
    "name": "ipython",
    "version": 3
   },
   "file_extension": ".py",
   "mimetype": "text/x-python",
   "name": "python",
   "nbconvert_exporter": "python",
   "pygments_lexer": "ipython3",
   "version": "3.12.3"
  }
 },
 "nbformat": 4,
 "nbformat_minor": 5
}
